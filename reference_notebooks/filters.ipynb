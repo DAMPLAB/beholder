{
 "cells": [
  {
   "cell_type": "code",
   "execution_count": 7,
   "metadata": {
    "collapsed": true
   },
   "outputs": [
    {
     "ename": "error",
     "evalue": "OpenCV(4.4.0) /tmp/pip-req-build-vu_aq9yd/opencv/modules/imgproc/src/contours.cpp:195: error: (-210:Unsupported format or combination of formats) [Start]FindContours supports only CV_8UC1 images when mode != CV_RETR_FLOODFILL otherwise supports CV_32SC1 images only in function 'cvStartFindContours_Impl'\n",
     "output_type": "error",
     "traceback": [
      "\u001B[0;31m---------------------------------------------------------------------------\u001B[0m",
      "\u001B[0;31merror\u001B[0m                                     Traceback (most recent call last)",
      "\u001B[0;32m<ipython-input-7-1111366b9e9b>\u001B[0m in \u001B[0;36m<module>\u001B[0;34m\u001B[0m\n\u001B[1;32m     33\u001B[0m \tcv2.THRESH_BINARY | cv2.THRESH_OTSU)[1]\n\u001B[1;32m     34\u001B[0m \u001B[0;31m# find contours in the thresholded image\u001B[0m\u001B[0;34m\u001B[0m\u001B[0;34m\u001B[0m\u001B[0;34m\u001B[0m\u001B[0m\n\u001B[0;32m---> 35\u001B[0;31m cnts = cv2.findContours(thresh.copy(), cv2.RETR_EXTERNAL,\n\u001B[0m\u001B[1;32m     36\u001B[0m \tcv2.CHAIN_APPROX_SIMPLE)\n\u001B[1;32m     37\u001B[0m \u001B[0mcnts\u001B[0m \u001B[0;34m=\u001B[0m \u001B[0mimutils\u001B[0m\u001B[0;34m.\u001B[0m\u001B[0mgrab_contours\u001B[0m\u001B[0;34m(\u001B[0m\u001B[0mcnts\u001B[0m\u001B[0;34m)\u001B[0m\u001B[0;34m\u001B[0m\u001B[0;34m\u001B[0m\u001B[0m\n",
      "\u001B[0;31merror\u001B[0m: OpenCV(4.4.0) /tmp/pip-req-build-vu_aq9yd/opencv/modules/imgproc/src/contours.cpp:195: error: (-210:Unsupported format or combination of formats) [Start]FindContours supports only CV_8UC1 images when mode != CV_RETR_FLOODFILL otherwise supports CV_32SC1 images only in function 'cvStartFindContours_Impl'\n"
     ]
    }
   ],
   "source": [
    "from __future__ import print_function\n",
    "from skimage.feature import peak_local_max\n",
    "from skimage.morphology import watershed\n",
    "from scipy import ndimage\n",
    "import argparse\n",
    "import imutils\n",
    "import cv2\n",
    "import matplotlib.pyplot as plt\n",
    "\n",
    "INPUT_IMAGE = \"../data/agarose_pads/SR15_1mM_IPTG_Agarose_TS_1h_1.nd2\"\n",
    "# Grab an ND2 File and take the first image off of it.\n",
    "import nd2reader\n",
    "from pims import ND2_Reader as nd2_sdk\n",
    "\n",
    "INPUT_FILE = \"../data/agarose_pads/SR15_1mM_IPTG_Agarose_TS_1h_1.nd2\"\n",
    "\n",
    "def get_raw():\n",
    "    with nd2reader.ND2Reader(INPUT_FILE) as input_frames:\n",
    "        return input_frames[0]\n",
    "\n",
    "def show(input_frame):\n",
    "    plt.imshow(\n",
    "            input_frame,\n",
    "            cmap='gray',\n",
    "            interpolation='nearest',\n",
    "        )\n",
    "\n",
    "image = get_raw()\n",
    "# image = cv2.pyrMeanShiftFiltering(image, 21, 51)\n",
    "# cv2.imshow(\"Input\", image)\n",
    "# gray = cv2.cvtColor(image, cv2.COLOR_BGR2GRAY)\n",
    "thresh = cv2.threshold(image, 0, 255,\n",
    "\tcv2.THRESH_BINARY | cv2.THRESH_OTSU)[1]\n",
    "# find contours in the thresholded image\n",
    "cnts = cv2.findContours(thresh.copy(), cv2.RETR_EXTERNAL,\n",
    "\tcv2.CHAIN_APPROX_SIMPLE)\n",
    "cnts = imutils.grab_contours(cnts)\n",
    "print(\"[INFO] {} unique contours found\".format(len(cnts)))\n",
    "# loop over the contours\n",
    "for (i, c) in enumerate(cnts):\n",
    "\t# draw the contour\n",
    "\t((x, y), _) = cv2.minEnclosingCircle(c)\n",
    "\tcv2.putText(image, \"#{}\".format(i + 1), (int(x) - 10, int(y)),\n",
    "\t\tcv2.FONT_HERSHEY_SIMPLEX, 0.6, (0, 0, 255), 2)\n",
    "\tcv2.drawContours(image, [c], -1, (0, 255, 0), 2)\n",
    "show(image)"
   ]
  }
 ],
 "metadata": {
  "kernelspec": {
   "display_name": "Python 3",
   "language": "python",
   "name": "python3"
  },
  "language_info": {
   "codemirror_mode": {
    "name": "ipython",
    "version": 2
   },
   "file_extension": ".py",
   "mimetype": "text/x-python",
   "name": "python",
   "nbconvert_exporter": "python",
   "pygments_lexer": "ipython2",
   "version": "2.7.6"
  }
 },
 "nbformat": 4,
 "nbformat_minor": 0
}