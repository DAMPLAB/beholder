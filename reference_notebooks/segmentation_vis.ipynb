{
 "cells": [
  {
   "cell_type": "code",
   "execution_count": 4,
   "metadata": {
    "collapsed": true
   },
   "outputs": [],
   "source": [
    "import copy\n",
    "import numpy as np\n",
    "from signal_processing import (\n",
    "    signal_transform,\n",
    "    sigpro_utility,\n",
    "    graphing,\n",
    "    stats,\n",
    ")"
   ]
  },
  {
   "cell_type": "code",
   "execution_count": 5,
   "outputs": [],
   "source": [
    "def preprocess_initial_grey_and_find_contours(initial_frame: np.ndarray):\n",
    "    # Each image transform should be giving us back an np.ndarray of the same\n",
    "    # shape and size.\n",
    "    out_frame = signal_transform.percentile_threshold(initial_frame)\n",
    "    out_frame = signal_transform.invert_image(out_frame)\n",
    "    out_frame = signal_transform.remove_background(out_frame)\n",
    "    out_frame = signal_transform.downsample_image(out_frame)\n",
    "    contours = signal_transform.find_contours(out_frame)\n",
    "    return contours\n",
    "\n",
    "\n",
    "def preprocess_initial_color_and_find_contours(initial_frame: np.ndarray):\n",
    "    # Each image transform should be giving us back an np.ndarray of the same\n",
    "    # shape and size.\n",
    "    out_frame = signal_transform.downsample_image(initial_frame)\n",
    "    out_frame = signal_transform.apply_brightness_contrast(\n",
    "        out_frame,\n",
    "        alpha=2,\n",
    "        beta=0,\n",
    "    )\n",
    "    out_frame = signal_transform.percentile_threshold(out_frame, 80, 98)\n",
    "    out_frame = signal_transform.invert_image(out_frame)\n",
    "    out_frame = signal_transform.remove_background(out_frame)\n",
    "    out_frame = signal_transform.downsample_image(out_frame)\n",
    "    contours = signal_transform.find_contours(out_frame)\n",
    "    return contours\n",
    "\n",
    "\n",
    "def preprocess_color_channel(\n",
    "        initial_frame: np.ndarray,\n",
    "        color: str,\n",
    "        alpha: float = 12,\n",
    "        beta: int = 0,\n",
    "):\n",
    "    out_frame = signal_transform.downsample_image(initial_frame)\n",
    "    out_frame = signal_transform.apply_brightness_contrast(\n",
    "        out_frame,\n",
    "        alpha,\n",
    "        beta,\n",
    "    )\n",
    "    out_frame = signal_transform.colorize_frame(out_frame, color)\n",
    "    return out_frame\n",
    "\n",
    "\n",
    "def contour_filtration(contours):\n",
    "    # TODO: We then need to refine our approach in terms of segmentation either\n",
    "    #  via eroding or some other mechanism. I think edge delineation is being\n",
    "    #  confounded by the lack of depth in the microscopy image and the\n",
    "    #  microfluidic device it's being housed in.\n",
    "    filtered_contours = signal_transform.cellular_highpass_filter(contours)\n",
    "    return filtered_contours\n",
    "\n",
    "def generate_contours(input_frame: np.ndarray, contours):\n",
    "    out_frame = graphing.draw_contours(\n",
    "            input_frame,\n",
    "            contours,\n",
    "        )\n",
    "    return out_frame\n",
    "\n",
    "\n",
    "def generate_mask(input_frame: np.ndarray, contours):\n",
    "    out_frame = graphing.draw_mask(\n",
    "        input_frame,\n",
    "        contours,\n",
    "        colouration='rainbow',\n",
    "    )\n",
    "    return out_frame\n",
    "\n",
    "\n",
    "def segmentation_pipeline(input_fn: str):\n",
    "    grey_frame, red_frame, green_frame = sigpro_utility.open_microscopy_image(\n",
    "        input_fn\n",
    "    )\n",
    "    prepro_frame = copy.copy(grey_frame)\n",
    "    c_red_frame = preprocess_color_channel(red_frame, 'red')\n",
    "    # sigpro_utility.display_frame(green_frame)\n",
    "    c_green_frame = preprocess_color_channel(green_frame, 'green')\n",
    "    # sigpro_utility.display_frame(green_frame)\n",
    "    mask_frame = np.zeros_like(grey_frame)\n",
    "    contours = preprocess_initial_grey_and_find_contours(grey_frame)\n",
    "    g_contours = preprocess_initial_color_and_find_contours(green_frame)\n",
    "    # g_contours = contour_filtration(g_contours)\n",
    "    contours = contour_filtration(contours)\n",
    "    green_cell_signals = stats.fluorescence_detection(\n",
    "        grey_frame,\n",
    "        green_frame,\n",
    "        contours,\n",
    "    )\n",
    "    red_cell_signals = stats.fluorescence_detection(\n",
    "        grey_frame,\n",
    "        red_frame,\n",
    "        contours,\n",
    "    )\n",
    "    labeled_green = graphing.label_cells(\n",
    "        signal_transform.downsample_image(green_frame),\n",
    "        contours,\n",
    "        green_cell_signals,\n",
    "    )\n",
    "    labeled_red = graphing.label_cells(\n",
    "        signal_transform.downsample_image(red_frame),\n",
    "        contours,\n",
    "        red_cell_signals,\n",
    "    )\n",
    "    labeled_green = signal_transform.colorize_frame(labeled_green, 'green')\n",
    "    labeled_red = signal_transform.colorize_frame(labeled_red, 'red')\n",
    "    d_grey_frame = signal_transform.downsample_image(grey_frame)\n",
    "    out_frame = signal_transform.combine_frame(\n",
    "        d_grey_frame,\n",
    "        c_red_frame,\n",
    "    )\n",
    "    out_frame = signal_transform.combine_frame(\n",
    "        out_frame,\n",
    "        labeled_red,\n",
    "    )\n",
    "    out_frame = signal_transform.combine_frame(\n",
    "        out_frame,\n",
    "        c_green_frame,\n",
    "    )\n",
    "    out_frame = signal_transform.combine_frame(\n",
    "        out_frame,\n",
    "        labeled_green,\n",
    "    )\n",
    "    contour_frame = copy.copy(prepro_frame)\n",
    "    contour_frame = generate_contours(contour_frame, contours)\n",
    "    mask_frame = generate_mask(mask_frame, contours)\n",
    "    sigpro_utility.display_frame(prepro_frame, 'Preprocess')\n",
    "    sigpro_utility.display_frame(contour_frame, 'Contour')\n",
    "    sigpro_utility.display_frame(mask_frame, 'Mask')\n",
    "    sigpro_utility.display_frame(out_frame, 'Output')"
   ],
   "metadata": {
    "collapsed": false,
    "pycharm": {
     "name": "#%%\n"
    }
   }
  },
  {
   "cell_type": "code",
   "execution_count": 6,
   "outputs": [
    {
     "name": "stdout",
     "output_type": "stream",
     "text": [
      "Input ND2 Files more than one image.\n"
     ]
    }
   ],
   "source": [
    "if __name__ == '__main__':\n",
    "    input_file = \"../data/agarose_pads/SR15_1mM_IPTG_Agarose_TS_1h_1.nd2\"\n",
    "    segmentation_pipeline(input_file)\n"
   ],
   "metadata": {
    "collapsed": false,
    "pycharm": {
     "name": "#%%\n"
    }
   }
  }
 ],
 "metadata": {
  "kernelspec": {
   "display_name": "Python 3",
   "language": "python",
   "name": "python3"
  },
  "language_info": {
   "codemirror_mode": {
    "name": "ipython",
    "version": 2
   },
   "file_extension": ".py",
   "mimetype": "text/x-python",
   "name": "python",
   "nbconvert_exporter": "python",
   "pygments_lexer": "ipython2",
   "version": "2.7.6"
  }
 },
 "nbformat": 4,
 "nbformat_minor": 0
}