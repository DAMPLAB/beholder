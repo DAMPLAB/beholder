{
 "cells": [
  {
   "cell_type": "code",
   "execution_count": 2,
   "metadata": {
    "collapsed": true
   },
   "outputs": [],
   "source": [
    "import os\n",
    "import imageio\n",
    "import tiffile\n",
    "import numpy as np\n",
    "import nd2reader\n",
    "import pims_nd2\n",
    "\n",
    "def empty_frame_check(input_frame: np.ndarray) -> bool:\n",
    "    '''\n",
    "    Checks to see if the inputted frame is empty.\n",
    "\n",
    "    An implementation detail from the underlying nd2reader library we're using:\n",
    "    Discontinuous or dropped frames are represented by NaN values instead of\n",
    "    zeroes which will later be implicitly cast to zeroes when being persisted\n",
    "    to disk. There does seem to be some places where there is a mismatch\n",
    "    between channels which results in the resultant image being off in terms\n",
    "    of stride.\n",
    "\n",
    "    Args:\n",
    "        input_frame: Input numpy array\n",
    "\n",
    "    Returns:\n",
    "        Whether or not the frame is 'emtpy'\n",
    "\n",
    "    '''\n",
    "    nan_converted_frame = np.nan_to_num(input_frame)\n",
    "    if np.sum(nan_converted_frame) == 0:\n",
    "        return True\n",
    "    return False\n",
    "\n",
    "def parse_nd2_file(fn: str):\n",
    "    out_list = []\n",
    "    try:\n",
    "        with nd2reader.ND2Reader(fn) as input_frames:\n",
    "            input_frames.iter_axes = 'vtc'\n",
    "            for start_idx in range(0, len(input_frames), 3):\n",
    "                grey_frame = input_frames[start_idx]\n",
    "                ch1_frame = input_frames[start_idx + 1]\n",
    "                ch2_frame = input_frames[start_idx + 2]\n",
    "                if any(\n",
    "                        map(\n",
    "                            empty_frame_check,\n",
    "                            [grey_frame, ch1_frame, ch2_frame]\n",
    "                        )\n",
    "                ):\n",
    "                    continue\n",
    "                else:\n",
    "\n",
    "                    out_list.append((grey_frame, ch1_frame, ch2_frame))\n",
    "    # Try/except logic to spackle over some of the weird indexing issues\n",
    "    # that seem to occur for three dimensional images vice two dimensional\n",
    "    except KeyError:\n",
    "        with pims_nd2.nd2reader.ND2_Reader(fn) as input_frames:\n",
    "            input_frames.iter_axes = 'mtc'\n",
    "            for start_idx in range(0, len(input_frames), 3):\n",
    "                grey_frame = input_frames[start_idx]\n",
    "                ch1_frame = input_frames[start_idx + 1]\n",
    "                ch2_frame = input_frames[start_idx + 2]\n",
    "                if any(\n",
    "                        map(\n",
    "                            empty_frame_check,\n",
    "                            [grey_frame, ch1_frame, ch2_frame]\n",
    "                        )\n",
    "                ):\n",
    "                    continue\n",
    "                else:\n",
    "                    out_list.append((grey_frame, ch1_frame, ch2_frame))\n",
    "    return out_list"
   ]
  },
  {
   "cell_type": "code",
   "execution_count": null,
   "outputs": [
    {
     "name": "stderr",
     "output_type": "stream",
     "text": [
      "/mnt/shared/code/damp_lab/beholder/.venv/lib/python3.8/site-packages/nd2reader/common_raw_metadata.py:99: RuntimeWarning: Reported average frame interval (1043.9 ms) doesn't match the set interval (300000.0 ms). Using the average now.\n",
      "  warnings.warn(message % (avg_interval, interval), RuntimeWarning)\n",
      "/mnt/shared/code/damp_lab/beholder/.venv/lib/python3.8/site-packages/nd2reader/common_raw_metadata.py:99: RuntimeWarning: Reported average frame interval (10193.3 ms) doesn't match the set interval (300000.0 ms). Using the average now.\n",
      "  warnings.warn(message % (avg_interval, interval), RuntimeWarning)\n",
      "/mnt/shared/code/damp_lab/beholder/.venv/lib/python3.8/site-packages/nd2reader/common_raw_metadata.py:99: RuntimeWarning: Reported average frame interval (223528.7 ms) doesn't match the set interval (300000.0 ms). Using the average now.\n",
      "  warnings.warn(message % (avg_interval, interval), RuntimeWarning)\n",
      "/mnt/shared/code/damp_lab/beholder/.venv/lib/python3.8/site-packages/nd2reader/parser.py:292: UserWarning: ND2 file contains gap frames which are represented by np.nan-filled arrays; to convert to zeros use e.g. np.nan_to_num(array)\n",
      "  warnings.warn('ND2 file contains gap frames which are represented by np.nan-filled arrays; to convert to zeros use e.g. np.nan_to_num(array)')\n"
     ]
    }
   ],
   "source": [
    "# ND2 -> 3 Channel Tiff\n",
    "input_file = \"1-SR_1_5_6hPre-C_2h_1mMIPTG_OFF_1hmMIPTG_ON_22hM9_TS_MC1\"\n",
    "filename = f'../../data/raw_nd2/{input_file}.nd2'\n",
    "output_fp = f'../../data/raw_tiffs/{input_file}'\n",
    "if not os.path.exists(output_fp):\n",
    "    os.makedirs(output_fp)\n",
    "input_list = parse_nd2_file(filename)\n",
    "out = output_fp + f'/{input_file}.tiff'\n",
    "tiffile.imwrite(out, input_list)\n"
   ],
   "metadata": {
    "collapsed": false,
    "pycharm": {
     "name": "#%%\n",
     "is_executing": true
    }
   }
  },
  {
   "cell_type": "code",
   "execution_count": 4,
   "outputs": [
    {
     "name": "stderr",
     "output_type": "stream",
     "text": [
      "Lossy conversion from uint16 to uint8. Losing 8 bits of resolution. Convert image to uint8 prior to saving to suppress this warning.\n",
      "Lossy conversion from uint16 to uint8. Losing 8 bits of resolution. Convert image to uint8 prior to saving to suppress this warning.\n",
      "Lossy conversion from uint16 to uint8. Losing 8 bits of resolution. Convert image to uint8 prior to saving to suppress this warning.\n",
      "Lossy conversion from uint16 to uint8. Losing 8 bits of resolution. Convert image to uint8 prior to saving to suppress this warning.\n",
      "Lossy conversion from uint16 to uint8. Losing 8 bits of resolution. Convert image to uint8 prior to saving to suppress this warning.\n",
      "Lossy conversion from uint16 to uint8. Losing 8 bits of resolution. Convert image to uint8 prior to saving to suppress this warning.\n",
      "Lossy conversion from uint16 to uint8. Losing 8 bits of resolution. Convert image to uint8 prior to saving to suppress this warning.\n",
      "Lossy conversion from uint16 to uint8. Losing 8 bits of resolution. Convert image to uint8 prior to saving to suppress this warning.\n",
      "Lossy conversion from uint16 to uint8. Losing 8 bits of resolution. Convert image to uint8 prior to saving to suppress this warning.\n",
      "Lossy conversion from uint16 to uint8. Losing 8 bits of resolution. Convert image to uint8 prior to saving to suppress this warning.\n",
      "Lossy conversion from uint16 to uint8. Losing 8 bits of resolution. Convert image to uint8 prior to saving to suppress this warning.\n",
      "Lossy conversion from uint16 to uint8. Losing 8 bits of resolution. Convert image to uint8 prior to saving to suppress this warning.\n",
      "Lossy conversion from uint16 to uint8. Losing 8 bits of resolution. Convert image to uint8 prior to saving to suppress this warning.\n",
      "Lossy conversion from uint16 to uint8. Losing 8 bits of resolution. Convert image to uint8 prior to saving to suppress this warning.\n",
      "Lossy conversion from uint16 to uint8. Losing 8 bits of resolution. Convert image to uint8 prior to saving to suppress this warning.\n",
      "Lossy conversion from uint16 to uint8. Losing 8 bits of resolution. Convert image to uint8 prior to saving to suppress this warning.\n",
      "Lossy conversion from uint16 to uint8. Losing 8 bits of resolution. Convert image to uint8 prior to saving to suppress this warning.\n",
      "Lossy conversion from uint16 to uint8. Losing 8 bits of resolution. Convert image to uint8 prior to saving to suppress this warning.\n",
      "Lossy conversion from uint16 to uint8. Losing 8 bits of resolution. Convert image to uint8 prior to saving to suppress this warning.\n",
      "Lossy conversion from uint16 to uint8. Losing 8 bits of resolution. Convert image to uint8 prior to saving to suppress this warning.\n",
      "Lossy conversion from uint16 to uint8. Losing 8 bits of resolution. Convert image to uint8 prior to saving to suppress this warning.\n",
      "Lossy conversion from uint16 to uint8. Losing 8 bits of resolution. Convert image to uint8 prior to saving to suppress this warning.\n",
      "Lossy conversion from uint16 to uint8. Losing 8 bits of resolution. Convert image to uint8 prior to saving to suppress this warning.\n",
      "Lossy conversion from uint16 to uint8. Losing 8 bits of resolution. Convert image to uint8 prior to saving to suppress this warning.\n",
      "Lossy conversion from uint16 to uint8. Losing 8 bits of resolution. Convert image to uint8 prior to saving to suppress this warning.\n",
      "Lossy conversion from uint16 to uint8. Losing 8 bits of resolution. Convert image to uint8 prior to saving to suppress this warning.\n",
      "Lossy conversion from uint16 to uint8. Losing 8 bits of resolution. Convert image to uint8 prior to saving to suppress this warning.\n",
      "Lossy conversion from uint16 to uint8. Losing 8 bits of resolution. Convert image to uint8 prior to saving to suppress this warning.\n",
      "Lossy conversion from uint16 to uint8. Losing 8 bits of resolution. Convert image to uint8 prior to saving to suppress this warning.\n",
      "Lossy conversion from uint16 to uint8. Losing 8 bits of resolution. Convert image to uint8 prior to saving to suppress this warning.\n",
      "Lossy conversion from uint16 to uint8. Losing 8 bits of resolution. Convert image to uint8 prior to saving to suppress this warning.\n",
      "Lossy conversion from uint16 to uint8. Losing 8 bits of resolution. Convert image to uint8 prior to saving to suppress this warning.\n",
      "Lossy conversion from uint16 to uint8. Losing 8 bits of resolution. Convert image to uint8 prior to saving to suppress this warning.\n",
      "Lossy conversion from uint16 to uint8. Losing 8 bits of resolution. Convert image to uint8 prior to saving to suppress this warning.\n",
      "Lossy conversion from uint16 to uint8. Losing 8 bits of resolution. Convert image to uint8 prior to saving to suppress this warning.\n",
      "Lossy conversion from uint16 to uint8. Losing 8 bits of resolution. Convert image to uint8 prior to saving to suppress this warning.\n",
      "Lossy conversion from uint16 to uint8. Losing 8 bits of resolution. Convert image to uint8 prior to saving to suppress this warning.\n",
      "Lossy conversion from uint16 to uint8. Losing 8 bits of resolution. Convert image to uint8 prior to saving to suppress this warning.\n",
      "Lossy conversion from uint16 to uint8. Losing 8 bits of resolution. Convert image to uint8 prior to saving to suppress this warning.\n",
      "Lossy conversion from uint16 to uint8. Losing 8 bits of resolution. Convert image to uint8 prior to saving to suppress this warning.\n",
      "Lossy conversion from uint16 to uint8. Losing 8 bits of resolution. Convert image to uint8 prior to saving to suppress this warning.\n",
      "Lossy conversion from uint16 to uint8. Losing 8 bits of resolution. Convert image to uint8 prior to saving to suppress this warning.\n",
      "Lossy conversion from uint16 to uint8. Losing 8 bits of resolution. Convert image to uint8 prior to saving to suppress this warning.\n",
      "Lossy conversion from uint16 to uint8. Losing 8 bits of resolution. Convert image to uint8 prior to saving to suppress this warning.\n",
      "Lossy conversion from uint16 to uint8. Losing 8 bits of resolution. Convert image to uint8 prior to saving to suppress this warning.\n"
     ]
    },
    {
     "name": "stdout",
     "output_type": "stream",
     "text": [
      "../../data/jpegs_for_training/New_SR_1_5_MC_TS10h/0.jpeg\n",
      "../../data/jpegs_for_training/New_SR_1_5_MC_TS10h/3.jpeg\n",
      "../../data/jpegs_for_training/New_SR_1_5_MC_TS10h/6.jpeg\n",
      "../../data/jpegs_for_training/New_SR_1_5_MC_TS10h/9.jpeg\n",
      "../../data/jpegs_for_training/New_SR_1_5_MC_TS10h/12.jpeg\n",
      "../../data/jpegs_for_training/New_SR_1_5_MC_TS10h/15.jpeg\n",
      "../../data/jpegs_for_training/New_SR_1_5_MC_TS10h/18.jpeg\n",
      "../../data/jpegs_for_training/New_SR_1_5_MC_TS10h/21.jpeg\n",
      "../../data/jpegs_for_training/New_SR_1_5_MC_TS10h/24.jpeg\n",
      "../../data/jpegs_for_training/New_SR_1_5_MC_TS10h/27.jpeg\n",
      "../../data/jpegs_for_training/New_SR_1_5_MC_TS10h/30.jpeg\n",
      "../../data/jpegs_for_training/New_SR_1_5_MC_TS10h/33.jpeg\n",
      "../../data/jpegs_for_training/New_SR_1_5_MC_TS10h/36.jpeg\n",
      "../../data/jpegs_for_training/New_SR_1_5_MC_TS10h/39.jpeg\n",
      "../../data/jpegs_for_training/New_SR_1_5_MC_TS10h/42.jpeg\n",
      "../../data/jpegs_for_training/New_SR_1_5_MC_TS10h/45.jpeg\n",
      "../../data/jpegs_for_training/New_SR_1_5_MC_TS10h/48.jpeg\n",
      "../../data/jpegs_for_training/New_SR_1_5_MC_TS10h/51.jpeg\n",
      "../../data/jpegs_for_training/New_SR_1_5_MC_TS10h/54.jpeg\n",
      "../../data/jpegs_for_training/New_SR_1_5_MC_TS10h/57.jpeg\n",
      "../../data/jpegs_for_training/New_SR_1_5_MC_TS10h/60.jpeg\n",
      "../../data/jpegs_for_training/New_SR_1_5_MC_TS10h/63.jpeg\n",
      "../../data/jpegs_for_training/New_SR_1_5_MC_TS10h/66.jpeg\n",
      "../../data/jpegs_for_training/New_SR_1_5_MC_TS10h/69.jpeg\n",
      "../../data/jpegs_for_training/New_SR_1_5_MC_TS10h/72.jpeg\n",
      "../../data/jpegs_for_training/New_SR_1_5_MC_TS10h/75.jpeg\n",
      "../../data/jpegs_for_training/New_SR_1_5_MC_TS10h/78.jpeg\n",
      "../../data/jpegs_for_training/New_SR_1_5_MC_TS10h/81.jpeg\n",
      "../../data/jpegs_for_training/New_SR_1_5_MC_TS10h/84.jpeg\n",
      "../../data/jpegs_for_training/New_SR_1_5_MC_TS10h/87.jpeg\n",
      "../../data/jpegs_for_training/New_SR_1_5_MC_TS10h/90.jpeg\n",
      "../../data/jpegs_for_training/New_SR_1_5_MC_TS10h/93.jpeg\n",
      "../../data/jpegs_for_training/New_SR_1_5_MC_TS10h/96.jpeg\n",
      "../../data/jpegs_for_training/New_SR_1_5_MC_TS10h/98.jpeg\n",
      "../../data/jpegs_for_training/New_SR_1_5_MC_TS10h/100.jpeg\n",
      "../../data/jpegs_for_training/New_SR_1_5_MC_TS10h/102.jpeg\n",
      "../../data/jpegs_for_training/New_SR_1_5_MC_TS10h/104.jpeg\n",
      "../../data/jpegs_for_training/New_SR_1_5_MC_TS10h/106.jpeg\n",
      "../../data/jpegs_for_training/New_SR_1_5_MC_TS10h/108.jpeg\n",
      "../../data/jpegs_for_training/New_SR_1_5_MC_TS10h/110.jpeg\n",
      "../../data/jpegs_for_training/New_SR_1_5_MC_TS10h/112.jpeg\n",
      "../../data/jpegs_for_training/New_SR_1_5_MC_TS10h/114.jpeg\n",
      "../../data/jpegs_for_training/New_SR_1_5_MC_TS10h/116.jpeg\n",
      "../../data/jpegs_for_training/New_SR_1_5_MC_TS10h/118.jpeg\n",
      "../../data/jpegs_for_training/New_SR_1_5_MC_TS10h/120.jpeg\n"
     ]
    }
   ],
   "source": [
    "# 3 Channel Tiff to JPEG\n",
    "input_file = \"New_SR_1_5_MC_TS10h\"\n",
    "filename = f'../../data/raw_tiffs/{input_file}.tif'\n",
    "output_fp = f'../../data/jpegs_for_training/{input_file}'\n",
    "if not os.path.exists(output_fp):\n",
    "    os.makedirs(output_fp)\n",
    "input_tiff = tiffile.imread(filename)\n",
    "frame_list = []\n",
    "for channel_index, channel_pairing in enumerate(input_tiff):\n",
    "    options = dict(compression='jpeg')\n",
    "    if not np.sum(channel_pairing[1]) == 0:\n",
    "        out = output_fp + f'/{channel_index}.jpeg'\n",
    "        print(out)\n",
    "        imageio.imwrite(out, channel_pairing[0])"
   ],
   "metadata": {
    "collapsed": false,
    "pycharm": {
     "name": "#%%\n"
    }
   }
  },
  {
   "cell_type": "code",
   "execution_count": null,
   "outputs": [],
   "source": [
    "thing2 = tiffile.imread('test_output.tif')\n",
    "print(len(thing2))"
   ],
   "metadata": {
    "collapsed": false,
    "pycharm": {
     "name": "#%%\n"
    }
   }
  }
 ],
 "metadata": {
  "kernelspec": {
   "display_name": "Python 3",
   "language": "python",
   "name": "python3"
  },
  "language_info": {
   "codemirror_mode": {
    "name": "ipython",
    "version": 2
   },
   "file_extension": ".py",
   "mimetype": "text/x-python",
   "name": "python",
   "nbconvert_exporter": "python",
   "pygments_lexer": "ipython2",
   "version": "2.7.6"
  }
 },
 "nbformat": 4,
 "nbformat_minor": 0
}